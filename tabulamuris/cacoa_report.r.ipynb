{
 "cells": [
  {
   "cell_type": "code",
   "execution_count": null,
   "id": "00e551b6",
   "metadata": {
    "vscode": {
     "languageId": "r"
    }
   },
   "outputs": [],
   "source": [
    "system(\"type R\")\n",
    "library(cacoa)\n",
    "library(Seurat)\n",
    "library(magrittr)\n",
    "library(cowplot)\n",
    "library(ggplot2)\n",
    "library(igraph)\n",
    "library(svglite)\n",
    "library(enrichplot)\n",
    "options(repr.plot.width=12, repr.plot.height=10, \n",
    "        jupyter.plot_scale = 1,repr.plot.res = 100)\n",
    "Sys.setenv(https_proxy='http://www-int.dkfz-heidelberg.de:80')\n",
    "Sys.setenv(http_proxy='http://www-int.dkfz-heidelberg.de:80')\n",
    "if (exists(\"snakemake\")) {\n",
    "                          \n",
    "    cao_input <- snakemake@input[[\"cacoa_processed\"]]\n",
    "    repermute <- snakemake@params[[\"permute\"]] \n",
    "    plot_path <- snakemake@params[[\"plot_path\"]]\n",
    "    save_plots <- snakemake@config[[\"save_plots\"]]\n",
    "    threads <- snakemake@threads\n",
    "} else {\n",
    "    cao_input <- \"/omics/odcf/analysis/OE0228_projects/VascularAging/rna_sequencing/public_scrnaseq/TabularMuris/processed_cao.RDS.gz\"\n",
    "    #cao_input <-  file.path(base_fp, \"processed_cao.RDS.gz\")\n",
    "    repermute <- F\n",
    "    plot_path <- \"/omics/odcf/analysis/OE0228_projects/VascularAging/rna_sequencing/public_scrnaseq/TabularMuris/plots\"\n",
    "    save_plots <- FALSE\n",
    "}\n",
    "\n",
    "dir.create(plot_path)\n",
    "#relevel(cao_obj$sample.groups,\"young\")"
   ]
  },
  {
   "cell_type": "code",
   "execution_count": null,
   "id": "e5406f87-0109-47d6-ac1f-67c4e88302ba",
   "metadata": {},
   "outputs": [],
   "source": [
    "#cao_obj$data.object@reductions$umap\n",
    "library(GenomeInfoDbData)\n",
    ".libPaths()"
   ]
  },
  {
   "cell_type": "markdown",
   "id": "af6ebf5a",
   "metadata": {},
   "source": [
    "# CACOA Analysis of Public Single Cell Datasets\n",
    "\n",
    "Using the Cacoa Package we analyze the structure of single cell datasets with \n",
    "the goal of identifying group specific changes in the data. "
   ]
  },
  {
   "cell_type": "code",
   "execution_count": null,
   "id": "ccb3b323",
   "metadata": {
    "vscode": {
     "languageId": "r"
    }
   },
   "outputs": [],
   "source": [
    "cao_obj <- readRDS(cao_input)\n",
    "\n",
    "cao_obj$sample.groups.palette <- c( young = \"#FC8D59\",\n",
    "      aged = \"#A0A0A4\")\n",
    "group_colors <- c( young = \"#FC8D59\",\n",
    "      aged = \"#A0A0A4\")\n",
    "cao_obj$plot.theme <- theme_bw()"
   ]
  },
  {
   "cell_type": "code",
   "execution_count": null,
   "id": "a2cdff45",
   "metadata": {
    "vscode": {
     "languageId": "r"
    }
   },
   "outputs": [],
   "source": [
    "packageVersion(\"cacoa\")"
   ]
  },
  {
   "cell_type": "code",
   "execution_count": null,
   "id": "588f8c88",
   "metadata": {
    "vscode": {
     "languageId": "r"
    }
   },
   "outputs": [],
   "source": [
    "example.celltypes <- names(sort(table(cao_obj$cell.groups),decreasing=T))\n",
    "top1 <- example.celltypes[1] \n",
    "top2 <- example.celltypes[c(1,2)]\n",
    "\n",
    "cells.to.contour <- top2\n",
    "cell.to.go <- example.celltypes[3]\n",
    "\n",
    "alpha <- 0.1; size <- 0.1;"
   ]
  },
  {
   "cell_type": "markdown",
   "id": "59f3c747",
   "metadata": {},
   "source": [
    "## Overview of dataset\n",
    "\n",
    "UMAP visualization of the dataset stratified by age and by cell types\n",
    "\n",
    "Classifcaiton into old and young samples is done on a dataset by dataset basis"
   ]
  },
  {
   "cell_type": "code",
   "execution_count": null,
   "id": "d448e2c9-4024-4875-92a3-438254eb5d71",
   "metadata": {},
   "outputs": [],
   "source": [
    "ElbowPlot(cao_obj$data.object)\n"
   ]
  },
  {
   "cell_type": "code",
   "execution_count": null,
   "id": "974756c9",
   "metadata": {
    "vscode": {
     "languageId": "r"
    }
   },
   "outputs": [],
   "source": [
    "library(ggplot2)\n",
    "library(patchwork)\n",
    "size = 0.1\n",
    "alpha = 0.5\n",
    "cell_group_umap <- cao_obj$plotEmbedding(color.by='cell.groups', alpha=alpha, size=size, title='cell types', \n",
    "                    plot.na=FALSE, show.legend=FALSE, font.size=c(2,3)) \n",
    "condition_umap <- cao_obj$plotEmbedding(color.by='condition', alpha=0.4, size=0.1, title='age', mark.groups = F) +    theme(legend.position=c(0.85, 0.1)) +\n",
    "    guides(color=guide_legend(override.aes = list(size=3,alpha=0.8),title='')) + \n",
    "        scale_color_manual(values = group_colors, labels = c(\"aged\" = \"aged\", \"young\" = \"young\"))\n",
    "\n",
    "if (save_plots) {\n",
    "    ggsave(filename = \"condition_umap.svg\" ,condition_umap,path = plot_path, width = 8, height = 8)\n",
    "    ggsave(filename = \"cell_group_umap.svg\" ,cell_group_umap,path = plot_path, width = 8, height = 8)\n",
    "}\n",
    "cell_group_umap  | condition_umap"
   ]
  },
  {
   "cell_type": "code",
   "execution_count": null,
   "id": "6c4346aa",
   "metadata": {
    "vscode": {
     "languageId": "r"
    }
   },
   "outputs": [],
   "source": [
    "names(cao_obj$data.object@graphs)\n",
    "gc()\n",
    "\n",
    "#cao_obj$estimateExpressionShiftMagnitudes(dist = \"cor\", top.n.genes = 1500, n.pcs = NULL)"
   ]
  },
  {
   "cell_type": "markdown",
   "id": "33142eeb",
   "metadata": {},
   "source": [
    "## Expresssion Shift Magnitudes\n",
    "\n",
    "We can use Expression shift magnitudes to infer Intra- and Intercluster differences on the basis of Correlation distances between cells\n",
    "\n"
   ]
  },
  {
   "cell_type": "code",
   "execution_count": null,
   "id": "ed0ba6fc",
   "metadata": {
    "vscode": {
     "languageId": "r"
    }
   },
   "outputs": [],
   "source": [
    "cao_obj$plot.theme <- theme_bw()\n",
    "joint_expression_dist <- cao_obj$plotExpressionDistance(joint = T, show.significance = T )\n",
    "if (save_plots) {\n",
    "    ggsave(\"joint_expression_dist.svg\", joint_expression_dist, path = plot_path, width = 6, height =8)\n",
    "}\n",
    "joint_expression_dist "
   ]
  },
  {
   "cell_type": "markdown",
   "id": "322e100d",
   "metadata": {},
   "source": [
    "The following plot whos the Expression distance between groups and tests their significance"
   ]
  },
  {
   "cell_type": "code",
   "execution_count": null,
   "id": "a237bcce",
   "metadata": {
    "vscode": {
     "languageId": "r"
    }
   },
   "outputs": [],
   "source": [
    "percell_expression_dist <- cao_obj$plotExpressionDistance(show.significance=TRUE,)\n",
    "if (save_plots) {\n",
    "    ggsave(\"expression_dist.svg\", percell_expression_dist, path = plot_path, width = 8, height = 8)\n",
    "}\n",
    "percell_expression_dist"
   ]
  },
  {
   "cell_type": "markdown",
   "id": "7dba504b",
   "metadata": {},
   "source": [
    "The Expression distance embedding is a dimensionality reduction on the Correlation distance\n",
    "between samples showing how samples/batches are related with each other. "
   ]
  },
  {
   "cell_type": "code",
   "execution_count": null,
   "id": "247fd47b",
   "metadata": {
    "vscode": {
     "languageId": "r"
    }
   },
   "outputs": [],
   "source": [
    "shift_sample_dist<- cao_obj$plotSampleDistances(space  = \"expression.shifts\", \n",
    "  , legend.position=c(0, 1), font.size=NULL ) \n",
    "\n",
    "if (save_plots) {\n",
    "    ggsave(filename = \"expression_shift_mds.svg\", shift_sample_dist,path = plot_path, width = 8, height = 8)\n",
    "}\n",
    "shift_sample_dist "
   ]
  },
  {
   "cell_type": "markdown",
   "id": "ec734871",
   "metadata": {},
   "source": [
    "### Shift types\n",
    "\n",
    "The first plot here shows the ExpressionshiftMagnitude for \"normal\" expression shifts\n",
    "\n",
    "The bottom plot shows this for \"common\" expression shifts. Difference between these two types is unknown. \n"
   ]
  },
  {
   "cell_type": "code",
   "execution_count": null,
   "id": "780495b9",
   "metadata": {
    "vscode": {
     "languageId": "r"
    }
   },
   "outputs": [],
   "source": [
    "expr_shift_mag <- cao_obj$plotExpressionShiftMagnitudes(type='box',show.pvalues = \"adjusted\",)\n",
    "\n",
    "if (save_plots) {\n",
    "    ggsave(\"expression_shift_mag.svg\", plot = expr_shift_mag, path = plot_path, width = 10, height = 8)\n",
    "}"
   ]
  },
  {
   "cell_type": "markdown",
   "id": "e1db3799-352c-47cf-8810-157b4197d26e",
   "metadata": {},
   "source": [
    "[](https://www.biorxiv.org/content/biorxiv/early/2022/03/18/2022.03.15.484475/F4.large.jpg?width=800&height=600&carousel=1)"
   ]
  },
  {
   "cell_type": "code",
   "execution_count": null,
   "id": "164fe166",
   "metadata": {
    "vscode": {
     "languageId": "r"
    }
   },
   "outputs": [],
   "source": [
    "cao_obj$plotExpressionShiftMagnitudes(type = \"box\", show.pvalues = \"adjusted\")"
   ]
  },
  {
   "cell_type": "code",
   "execution_count": null,
   "id": "0e332a5f",
   "metadata": {
    "vscode": {
     "languageId": "r"
    }
   },
   "outputs": [],
   "source": [
    "#cao_obj$estimateExpressionShiftMagnitudes(min.cells.per.sample = 5,top.n.genes = 1500, n.permutations = 2500)\n",
    "cao_obj$plotExpressionShiftMagnitudes(show.pvalues = \"adjusted\",\n",
    "                                        show.jitter=TRUE, type='bar')"
   ]
  },
  {
   "cell_type": "code",
   "execution_count": null,
   "id": "05728233",
   "metadata": {
    "vscode": {
     "languageId": "r"
    }
   },
   "outputs": [],
   "source": [
    "cao_obj$plotExpressionShiftMagnitudes()"
   ]
  },
  {
   "cell_type": "markdown",
   "id": "09f5712e",
   "metadata": {},
   "source": [
    "## Cell Group Proportions between groups"
   ]
  },
  {
   "cell_type": "code",
   "execution_count": null,
   "id": "bab7ef73",
   "metadata": {
    "vscode": {
     "languageId": "r"
    }
   },
   "outputs": [],
   "source": [
    "cao_obj$plotCellGroupSizes(alpha=0.3, show.significance=TRUE)"
   ]
  },
  {
   "cell_type": "markdown",
   "id": "f0046d72",
   "metadata": {},
   "source": [
    "This plot shows PCA? Cell loadings to the best contrast? No Idea what this actually means but its pretty"
   ]
  },
  {
   "cell_type": "code",
   "execution_count": null,
   "id": "5e793477",
   "metadata": {
    "vscode": {
     "languageId": "r"
    }
   },
   "outputs": [],
   "source": [
    "signif.threshold <- 0.05\n",
    "cao_obj$plotCellLoadings(signif.threshold=signif.threshold, show.pvals=FALSE, alpha=0.01)"
   ]
  },
  {
   "cell_type": "markdown",
   "id": "18665fb2",
   "metadata": {},
   "source": [
    "## CODA space\n",
    "\n",
    "Sadly we dont know what CODA space is (some type of Dimensionality Reduction). The first plot is ont he basis of PCA and somehow infers cluster Positions across this PCA (But I can't really tell what and why)\n",
    "\n",
    "The second plot uses significant cells from cda and does the same plot. Again no idea whwat when how and why. \n"
   ]
  },
  {
   "cell_type": "code",
   "execution_count": null,
   "id": "b037c7fa",
   "metadata": {
    "vscode": {
     "languageId": "r"
    }
   },
   "outputs": [],
   "source": [
    "cao_obj$plotCodaSpace(space='CDA', font.size=2.5) "
   ]
  },
  {
   "cell_type": "code",
   "execution_count": null,
   "id": "e7463dd4",
   "metadata": {
    "vscode": {
     "languageId": "r"
    }
   },
   "outputs": [],
   "source": [
    "cells.signif <- names(cao_obj$test.results$cda$pvals)[cao_obj$test.results$cda$pvals < signif.threshold]"
   ]
  },
  {
   "cell_type": "code",
   "execution_count": null,
   "id": "fd1e99d0",
   "metadata": {
    "vscode": {
     "languageId": "r"
    }
   },
   "outputs": [],
   "source": [
    "if(length(cells.signif) >= 2) {\n",
    " cao_obj$plotCodaSpace(space='CDA', cells.to.remain = cells.signif)\n",
    "} else {\n",
    "  cao_obj$plotCodaSpace(space='CDA')\n",
    "}"
   ]
  },
  {
   "cell_type": "code",
   "execution_count": null,
   "id": "49a22abf",
   "metadata": {
    "vscode": {
     "languageId": "r"
    }
   },
   "outputs": [],
   "source": [
    "cao_obj$plotContrastTree()"
   ]
  },
  {
   "cell_type": "code",
   "execution_count": null,
   "id": "b3b801ab",
   "metadata": {
    "vscode": {
     "languageId": "r"
    }
   },
   "outputs": [],
   "source": [
    "library(ggplot2)\n"
   ]
  },
  {
   "cell_type": "code",
   "execution_count": null,
   "id": "97d96f9e",
   "metadata": {
    "vscode": {
     "languageId": "r"
    }
   },
   "outputs": [],
   "source": [
    "\n",
    "p0 <- cao_obj$plotEmbedding(color.by='cell.groups', alpha=alpha, size=size,\n",
    "                        title='annotation', show.legend=FALSE, font.size=c(2,3))\n",
    "pl <- cao_obj$plotCellDensity(add.points=TRUE, show.grid=TRUE, contours=cells.to.contour,\n",
    "                          show.cell.groups=FALSE)\n",
    "plot_grid(p0, plotlist=pl, nrow = 1)"
   ]
  },
  {
   "cell_type": "markdown",
   "id": "259e43a9",
   "metadata": {},
   "source": [
    "Differential celld ensity calculates cluster free changes in density among the cells in the\n",
    "UMAP plot, showing where cells are closely grouped in the plot"
   ]
  },
  {
   "cell_type": "code",
   "execution_count": null,
   "id": "e96743d8",
   "metadata": {
    "vscode": {
     "languageId": "r"
    }
   },
   "outputs": [],
   "source": [
    "#cao_obj$estimateDiffCellDensity(type='permutation', verbose=FALSE)\n",
    "#p1 <- cao_obj$plotDiffCellDensity(type='permutation', title='difference',\n",
    "#                              legend.position=c(0,0), contours=cells.to.contour)\n",
    "\n",
    "#p3 <- cao_obj$plotDiffCellDensity(type='wilcox', title='wilcox',\n",
    "#                              legend.position=c(0,0), contours=cells.to.contour)\n",
    "#p4 <- cao_obj$plotDiffCellDensity(type='permutation', title='permutation',\n",
    "#                              legend.position=c(0,0), contours=cells.to.contour)"
   ]
  },
  {
   "cell_type": "code",
   "execution_count": null,
   "id": "f2855624",
   "metadata": {
    "vscode": {
     "languageId": "r"
    }
   },
   "outputs": [],
   "source": [
    "#plot_grid(p0,p4)\n",
    "#plot_grid(p0,p3)\n",
    "#plot_grid(p0,p1)"
   ]
  },
  {
   "cell_type": "markdown",
   "id": "6c6e0682",
   "metadata": {},
   "source": [
    "Cell density estimated on a graph based method"
   ]
  },
  {
   "cell_type": "code",
   "execution_count": null,
   "id": "f96ab6f9",
   "metadata": {
    "vscode": {
     "languageId": "r"
    }
   },
   "outputs": [],
   "source": []
  },
  {
   "cell_type": "code",
   "execution_count": null,
   "id": "61727a45",
   "metadata": {
    "vscode": {
     "languageId": "r"
    }
   },
   "outputs": [],
   "source": []
  },
  {
   "cell_type": "markdown",
   "id": "4bf4ab7f",
   "metadata": {},
   "source": [
    "## Apln(R) testing\n",
    "\n",
    "Cluster Free Differntial expression of Apln and AplnR"
   ]
  },
  {
   "cell_type": "code",
   "execution_count": null,
   "id": "722c1979",
   "metadata": {
    "vscode": {
     "languageId": "r"
    }
   },
   "outputs": [],
   "source": [
    "if (snakemake@config[[\"organism\"]] == \"mm\") {\n",
    "    cao_obj$plotGeneExpressionComparison(genes = c(\"Apln\", \"Aplnr\", \"Cd74\"), nrow = 2)\n",
    "    VlnPlot(cao_obj$data.object, features = c(\"Apln\"), idents = \"endothelial cell\", split.by = \"binary_age\")\n",
    "    VlnPlot(cao_obj$data.object, features = c(\"Aplnr\"), idents = \"endothelial cell\", split.by = \"binary_age\")\n",
    "} else {\n",
    "    cao_obj$plotGeneExpressionComparison(genes = c(\"APLN\", \"APLNR\", \"CD74\"), nrow = 2)\n",
    "    VlnPlot(cao_obj$data.object, features = c(\"APLN\"), idents = \"endothelial cell\", split.by = \"binary_age\")\n",
    "    VlnPlot(cao_obj$data.object, features = c(\"APLNR\"), idents = \"endothelial cell\", split.by = \"binary_age\")\n",
    "\n",
    "}\n"
   ]
  },
  {
   "cell_type": "code",
   "execution_count": null,
   "id": "ebdf2ae0",
   "metadata": {
    "vscode": {
     "languageId": "r"
    }
   },
   "outputs": [],
   "source": [
    "  #  cao_obj$plotGeneExpressionComparison(genes = c(\"Apln\", \"Aplnr\", \"Cd74\"), nrow = 2)\n",
    "    VlnPlot(cao_obj$data.object, features = c(\"Apln\",\"Aplnr\"), idents = \"endothelial cell\", split.by = \"binary_age\",adjust = 0.5)\n",
    "    VlnPlot(cao_obj$data.object, features = c(\"Aplnr\"), idents = \"endothelial cell\", split.by = \"binary_age\", adjust  = 0.5)"
   ]
  },
  {
   "cell_type": "markdown",
   "id": "82a75ea7",
   "metadata": {},
   "source": [
    "The following plots show gene program scores and cluster free expression shifts in the data. "
   ]
  },
  {
   "cell_type": "code",
   "execution_count": null,
   "id": "b93e9ee2",
   "metadata": {
    "vscode": {
     "languageId": "r"
    }
   },
   "outputs": [],
   "source": [
    "#cao_obj$plotGeneProgramScores(legend.position=c(0, 1), size=0.1, alpha=0.1)"
   ]
  },
  {
   "cell_type": "code",
   "execution_count": null,
   "id": "9a6c0398",
   "metadata": {
    "vscode": {
     "languageId": "r"
    }
   },
   "outputs": [],
   "source": [
    "#plot_grid(\n",
    "#  cao_obj$plotClusterFreeExpressionShifts(size=0.1, alpha=0.1, legend.position=c(0, 0), font.size=c(2,3))\n",
    "#)"
   ]
  },
  {
   "cell_type": "code",
   "execution_count": null,
   "id": "cc7fa09d",
   "metadata": {
    "vscode": {
     "languageId": "r"
    }
   },
   "outputs": [],
   "source": [
    "#plot_grid(plotlist=cao_obj$plotGeneProgramGenes(program.id = 1,plots = \"z\"), ncol = 3)"
   ]
  },
  {
   "cell_type": "markdown",
   "id": "6c99b92b",
   "metadata": {},
   "source": [
    "## Differential Gene Expression Analysis\n",
    "\n",
    "Here 4 Different Methods were used for DE nalysis:\n",
    "- de: DESE2 \n",
    "- de.Fixed <- Fixed cell number (50), bootstrapped\n",
    "- de.loo <- loo resampling method\n",
    "- de.fix <- DESeq2 fix.count resampling\n",
    "\n",
    "Plot differential expression using varios methods. "
   ]
  },
  {
   "cell_type": "code",
   "execution_count": null,
   "id": "49fd778f",
   "metadata": {
    "vscode": {
     "languageId": "r"
    }
   },
   "outputs": [],
   "source": [
    "\n",
    "create_DE_plots <- function(de_type, cao_obj) {\n",
    "    p_list <- list()\n",
    "    print(de_type)\n",
    "\n",
    "    p_list[[\"plot_volcano\"]] <- cao_obj$plotVolcano(lf.cutoff = 0.5, name = de_type, build.panel = FALSE)\n",
    "    p_list[[\"nDEgenes\"]] <- cao_obj$plotNumberOfDEGenes(name=de_type,pvalue.cutoff=1e-3, p.adjust=FALSE,\n",
    "                        show.jitter=FALSE, type='box', show.resampling.results=TRUE, notch = FALSE)\n",
    "   #p_list[[\"go_map\"]] <- cao_obj$plotOntologyHeatmapCollapsed(\n",
    "  #name=paste0(de_type,\"GO\"), genes=\"all\", n=50, clust.method=\"ward.D\", size.range=c(1, 4)\n",
    " #  )\n",
    "\n",
    "    p_list\n",
    "}\n",
    "plots <- lapply(list(\"de.Wald\",\"deFixed_LRT\", \"de.fix\", \"de.loo\"), create_DE_plots, cao_obj = cao_obj )\n",
    "names(plots) <- c(\"de.Wald\",\"deFixed_LRT\", \"de.fix\", \"de.loo\")"
   ]
  },
  {
   "cell_type": "code",
   "execution_count": null,
   "id": "23957ff1-cea9-4296-b3b6-8d11d339ed7f",
   "metadata": {
    "vscode": {
     "languageId": "r"
    }
   },
   "outputs": [],
   "source": [
    "#plots[[4]]\n",
    "cell_types <- names(plots[[1]]$plot_volcano)\n",
    "if (save_plots) {\n",
    "    cell_types <- names(plots[[4]]$plot_volcano)\n",
    "    purrr::map(cell_types, function(x, y) {\n",
    "        ggsave(glue::glue(\"{x}_volcanoplot.svg\"), y[[x]] + ggtitle(x), path  = plot_path, width = 8, height = 8)\n",
    "    },  y =plots[[4]]$plot_volcano)\n",
    "    ggsave(glue::glue(\"nDE_genes.svg\"), plots[[4]]$nDEgenes, path  = plot_path, width = 8, height = 8)\n",
    "    \n",
    "}"
   ]
  },
  {
   "cell_type": "code",
   "execution_count": null,
   "id": "5f679b74-cf0a-45e7-b3be-7ac312f66d88",
   "metadata": {},
   "outputs": [],
   "source": [
    "#cell_types <- names(plots[[1]]$plot_volcano)\n",
    "\n",
    "for (test_group in names(plots)) {\n",
    "    cell_types <- names(plots[[test_group]]$plot_volcano)\n",
    "    named_plots = purrr::map(cell_types, function(x, y) {\n",
    "        y[[x]] + ggtitle(x)\n",
    "    },  y =plots[[test_group]]$plot_volcano)\n",
    "    print(test_group)\n",
    "    print(named_plots)\n",
    "}"
   ]
  },
  {
   "cell_type": "code",
   "execution_count": null,
   "id": "005009ad-babb-4664-8a69-0dc1e859e763",
   "metadata": {},
   "outputs": [],
   "source": [
    "plots$de.loo$nDEgenes"
   ]
  },
  {
   "cell_type": "code",
   "execution_count": null,
   "id": "a723d247-30f8-4b4f-ba96-3db4639904f9",
   "metadata": {
    "vscode": {
     "languageId": "r"
    }
   },
   "outputs": [],
   "source": [
    "cao_obj$test.results$de.looGO$res <- purrr::map(cao_obj$test.results$de.looGO$res, function(x) {\n",
    "    x$BP@result %>% dplyr::rename(qvalues = qvalue)\n",
    "})\n",
    "                                                "
   ]
  },
  {
   "cell_type": "code",
   "execution_count": null,
   "id": "f371f767-d0dc-4f52-830a-bf013d2ab9fc",
   "metadata": {
    "vscode": {
     "languageId": "r"
    }
   },
   "outputs": [],
   "source": [
    "go_plots <- list()\n",
    "for(c_g in cao_obj$cell.groups %>% unique()) {\n",
    "    try(go_plots[[c_g]]<-cao_obj$plotOntology(c_g, name = \"de.looGO\", title = c_g,font.size = 10, n = 15, size = \"p.adjust\", color = \"NES\")\n",
    ")\n",
    "}"
   ]
  },
  {
   "cell_type": "code",
   "execution_count": null,
   "id": "b72568bd-62c7-4ea3-b34a-b2a1d960a557",
   "metadata": {
    "vscode": {
     "languageId": "r"
    }
   },
   "outputs": [],
   "source": [
    " #cao_obj$plotOntology(\"endothelial cell\", name = \"de.looGO\")\n",
    "go_plots\n",
    "if (save_plots) {\n",
    "    for (c_g in names(go_plots)){\n",
    "        ggsave(filename = glue::glue(\"{c_g}_goplot.svg\"), go_plots[[c_g]], path = plot_path, width = 8, height = 10)\n",
    "    }\n",
    "}\n",
    "go_plots"
   ]
  },
  {
   "cell_type": "code",
   "execution_count": null,
   "id": "82687356-9fcb-4272-9e73-b8559fadb812",
   "metadata": {},
   "outputs": [],
   "source": [
    "#head(cao_obj$test.results$de.loo)"
   ]
  },
  {
   "cell_type": "code",
   "execution_count": null,
   "id": "3d2addc5-02a0-42eb-824e-9b3cf1e76fd8",
   "metadata": {},
   "outputs": [],
   "source": [
    "#purrr::map(cao_obj$test.results$de.looGO$res, function(x) {\n",
    "#    x$BP@result %>% dplyr::rename(qvalues = qvalue)\n",
    "#})"
   ]
  },
  {
   "cell_type": "code",
   "execution_count": null,
   "id": "9c8cc5b0-eb99-433f-a2f0-b471b8e5624b",
   "metadata": {},
   "outputs": [],
   "source": [
    "#head(cao_obj$test.results[[\"de.looGO\"]])\n"
   ]
  },
  {
   "cell_type": "code",
   "execution_count": null,
   "id": "bb7e594f-17d1-4c10-9f34-d19a09337b37",
   "metadata": {},
   "outputs": [],
   "source": [
    "plots[[4]]$nDEgenes"
   ]
  },
  {
   "cell_type": "code",
   "execution_count": null,
   "id": "c8c71668-0f35-484b-b57a-1570de432477",
   "metadata": {},
   "outputs": [],
   "source": []
  }
 ],
 "metadata": {
  "interpreter": {
   "hash": "6e65364fc5723231e2a451a72bacf13b7b6ad5e0ed30f5ee0b7c48f608273c9b"
  },
  "kernelspec": {
   "display_name": "R_cacoa",
   "language": "R",
   "name": "r_cacoa"
  },
  "language_info": {
   "codemirror_mode": "r",
   "file_extension": ".r",
   "mimetype": "text/x-r-source",
   "name": "R",
   "pygments_lexer": "r",
   "version": "4.3.2"
  }
 },
 "nbformat": 4,
 "nbformat_minor": 5
}
